{
 "cells": [
  {
   "cell_type": "markdown",
   "metadata": {},
   "source": [
    "#### Introduction to computer vision, context mainly adopted from 'introduction to computer vision' course on Udacity. Python & Opencv is used in this series of tutorials. \n",
    "[source code on GitHub](https://github.com/Max1993Liu/Computer_Vision)\n",
    "\n",
    "#### Scale Invariant Detection: not affected by the size but will be the same for 'corresponding regions', even if they are at different scales. ( SIFT, Harris-Lapalce etc.)"
   ]
  },
  {
   "cell_type": "code",
   "execution_count": null,
   "metadata": {
    "collapsed": true
   },
   "outputs": [],
   "source": []
  }
 ],
 "metadata": {
  "kernelspec": {
   "display_name": "Python [Root]",
   "language": "python",
   "name": "Python [Root]"
  },
  "language_info": {
   "codemirror_mode": {
    "name": "ipython",
    "version": 2
   },
   "file_extension": ".py",
   "mimetype": "text/x-python",
   "name": "python",
   "nbconvert_exporter": "python",
   "pygments_lexer": "ipython2",
   "version": "2.7.12"
  }
 },
 "nbformat": 4,
 "nbformat_minor": 0
}
